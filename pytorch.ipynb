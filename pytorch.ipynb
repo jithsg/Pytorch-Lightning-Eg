{
 "cells": [
  {
   "cell_type": "code",
   "execution_count": 7,
   "metadata": {},
   "outputs": [
    {
     "name": "stdout",
     "output_type": "stream",
     "text": [
      "Python 3.11.7\n"
     ]
    }
   ],
   "source": [
    "!python --version\n",
    "import warnings\n",
    "\n",
    "warnings.filterwarnings(\"ignore\", \"is_categorical_dtype\")\n",
    "warnings.filterwarnings(\"ignore\", \"use_inf_as_na\")"
   ]
  },
  {
   "cell_type": "code",
   "execution_count": 3,
   "metadata": {},
   "outputs": [
    {
     "data": {
      "text/plain": [
       "'2.1.2+cpu'"
      ]
     },
     "execution_count": 3,
     "metadata": {},
     "output_type": "execute_result"
    }
   ],
   "source": [
    "import torch\n",
    "torch.__version__"
   ]
  },
  {
   "cell_type": "code",
   "execution_count": 4,
   "metadata": {},
   "outputs": [],
   "source": [
    "import numpy as np\n",
    "import pandas as pd\n",
    "import seaborn as sns\n",
    "import matplotlib.pyplot as plt\n",
    "\n",
    "import torch.nn as nn\n",
    "import torch.optim as optim\n",
    "from torch.utils.data import Dataset, DataLoader\n",
    "\n",
    "from sklearn.compose import ColumnTransformer\n",
    "from sklearn.model_selection import train_test_split\n",
    "from sklearn.preprocessing import StandardScaler, MinMaxScaler , OneHotEncoder"
   ]
  },
  {
   "cell_type": "code",
   "execution_count": 10,
   "metadata": {},
   "outputs": [
    {
     "data": {
      "text/html": [
       "<div>\n",
       "<style scoped>\n",
       "    .dataframe tbody tr th:only-of-type {\n",
       "        vertical-align: middle;\n",
       "    }\n",
       "\n",
       "    .dataframe tbody tr th {\n",
       "        vertical-align: top;\n",
       "    }\n",
       "\n",
       "    .dataframe thead th {\n",
       "        text-align: right;\n",
       "    }\n",
       "</style>\n",
       "<table border=\"1\" class=\"dataframe\">\n",
       "  <thead>\n",
       "    <tr style=\"text-align: right;\">\n",
       "      <th></th>\n",
       "      <th>age</th>\n",
       "      <th>sex</th>\n",
       "      <th>bmi</th>\n",
       "      <th>children</th>\n",
       "      <th>smoker</th>\n",
       "      <th>region</th>\n",
       "      <th>charges</th>\n",
       "    </tr>\n",
       "  </thead>\n",
       "  <tbody>\n",
       "    <tr>\n",
       "      <th>0</th>\n",
       "      <td>19</td>\n",
       "      <td>female</td>\n",
       "      <td>27.900</td>\n",
       "      <td>0</td>\n",
       "      <td>yes</td>\n",
       "      <td>southwest</td>\n",
       "      <td>16884.92400</td>\n",
       "    </tr>\n",
       "    <tr>\n",
       "      <th>1</th>\n",
       "      <td>18</td>\n",
       "      <td>male</td>\n",
       "      <td>33.770</td>\n",
       "      <td>1</td>\n",
       "      <td>no</td>\n",
       "      <td>southeast</td>\n",
       "      <td>1725.55230</td>\n",
       "    </tr>\n",
       "    <tr>\n",
       "      <th>2</th>\n",
       "      <td>28</td>\n",
       "      <td>male</td>\n",
       "      <td>33.000</td>\n",
       "      <td>3</td>\n",
       "      <td>no</td>\n",
       "      <td>southeast</td>\n",
       "      <td>4449.46200</td>\n",
       "    </tr>\n",
       "    <tr>\n",
       "      <th>3</th>\n",
       "      <td>33</td>\n",
       "      <td>male</td>\n",
       "      <td>22.705</td>\n",
       "      <td>0</td>\n",
       "      <td>no</td>\n",
       "      <td>northwest</td>\n",
       "      <td>21984.47061</td>\n",
       "    </tr>\n",
       "    <tr>\n",
       "      <th>4</th>\n",
       "      <td>32</td>\n",
       "      <td>male</td>\n",
       "      <td>28.880</td>\n",
       "      <td>0</td>\n",
       "      <td>no</td>\n",
       "      <td>northwest</td>\n",
       "      <td>3866.85520</td>\n",
       "    </tr>\n",
       "  </tbody>\n",
       "</table>\n",
       "</div>"
      ],
      "text/plain": [
       "   age     sex     bmi  children smoker     region      charges\n",
       "0   19  female  27.900         0    yes  southwest  16884.92400\n",
       "1   18    male  33.770         1     no  southeast   1725.55230\n",
       "2   28    male  33.000         3     no  southeast   4449.46200\n",
       "3   33    male  22.705         0     no  northwest  21984.47061\n",
       "4   32    male  28.880         0     no  northwest   3866.85520"
      ]
     },
     "execution_count": 10,
     "metadata": {},
     "output_type": "execute_result"
    }
   ],
   "source": [
    "insurance_data = pd.read_csv(\"datasets/insurance.csv\", on_bad_lines='skip')\n",
    "\n",
    "insurance_data.head()"
   ]
  },
  {
   "cell_type": "code",
   "execution_count": 11,
   "metadata": {},
   "outputs": [
    {
     "data": {
      "text/plain": [
       "((1070, 6), (268, 6), (1070,), (268,))"
      ]
     },
     "execution_count": 11,
     "metadata": {},
     "output_type": "execute_result"
    }
   ],
   "source": [
    "X = insurance_data.drop(columns = [\"charges\"])\n",
    "y = insurance_data[\"charges\"]\n",
    "\n",
    "X_train, X_val, y_train, y_val = train_test_split(X, y, test_size = 0.2, random_state = 123)\n",
    "\n",
    "X_train.shape, X_val.shape, y_train.shape, y_val.shape\n",
    "categorical_features = [\"sex\", \"smoker\", \"region\"]\n",
    "\n",
    "categorical_transformer = OneHotEncoder(\n",
    "    handle_unknown = \"ignore\", drop = \"first\", sparse_output = False\n",
    ")\n",
    "\n",
    "preprocessor = ColumnTransformer(\n",
    "    transformers = [(\"cat_tr\", categorical_transformer, categorical_features)],\n",
    "    remainder = \"passthrough\"\n",
    ")\n",
    "X_train = preprocessor.fit_transform(X_train)\n",
    "X_val = preprocessor.transform(X_val)\n",
    "\n",
    "\n",
    "pd.DataFrame(X_train, columns = preprocessor.get_feature_names_out())\n",
    "y_train = y_train.to_numpy()\n",
    "y_val = y_val.to_numpy()\n",
    "stdscaler = StandardScaler()\n",
    "\n",
    "X_train = stdscaler.fit_transform(X_train)\n",
    "X_val = stdscaler.transform(X_val)\n",
    "\n",
    "min_max_scaler = MinMaxScaler()\n",
    "\n",
    "y_train = min_max_scaler.fit_transform(y_train.reshape(-1, 1))\n",
    "\n",
    "y_val = min_max_scaler.transform(y_val.reshape(-1, 1))\n",
    "train_inputs = torch.from_numpy(X_train).float()\n",
    "train_targets = torch.from_numpy(y_train.reshape(-1, 1)).float()\n",
    "\n"
   ]
  },
  {
   "cell_type": "code",
   "execution_count": 20,
   "metadata": {},
   "outputs": [],
   "source": [
    "class SimpleNeuralNetwork(nn.Module):\n",
    "    def __init__(self, input_dim):\n",
    "        super().__init__()\n",
    "        self.fc1 = nn.Linear(input_dim, 1)\n",
    "\n",
    "    def forward(self, x_in):\n",
    "        y_pred = self.fc1(x_in)\n",
    "        return y_pred"
   ]
  },
  {
   "cell_type": "code",
   "execution_count": 21,
   "metadata": {},
   "outputs": [],
   "source": [
    "model = SimpleNeuralNetwork(input_dim = 8)"
   ]
  },
  {
   "cell_type": "code",
   "execution_count": 22,
   "metadata": {},
   "outputs": [],
   "source": [
    "import torch.nn.functional as F\n",
    "\n",
    "loss_fn = F.mse_loss"
   ]
  },
  {
   "cell_type": "code",
   "execution_count": 24,
   "metadata": {},
   "outputs": [
    {
     "name": "stdout",
     "output_type": "stream",
     "text": [
      "tensor(0.4929, grad_fn=<MseLossBackward0>)\n"
     ]
    }
   ],
   "source": [
    "loss = loss_fn(model(train_inputs), train_targets)\n",
    "\n",
    "print(loss)"
   ]
  },
  {
   "cell_type": "code",
   "execution_count": 25,
   "metadata": {},
   "outputs": [
    {
     "data": {
      "text/plain": [
       "tensor([[ 0.0946],\n",
       "        [-0.8909],\n",
       "        [-0.4565],\n",
       "        ...,\n",
       "        [ 0.0211],\n",
       "        [ 0.3600],\n",
       "        [-0.4017]], grad_fn=<AddmmBackward0>)"
      ]
     },
     "execution_count": 25,
     "metadata": {},
     "output_type": "execute_result"
    }
   ],
   "source": [
    "preds = model(train_inputs)\n",
    "\n",
    "preds"
   ]
  },
  {
   "cell_type": "code",
   "execution_count": 26,
   "metadata": {},
   "outputs": [
    {
     "name": "stdout",
     "output_type": "stream",
     "text": [
      "Mean Squared Error : 0.4929397702217102\n",
      "R^2 : -11.853158950805664\n"
     ]
    }
   ],
   "source": [
    "from torchmetrics.regression import R2Score\n",
    "from torchmetrics.regression import MeanSquaredError\n",
    "\n",
    "MSE = MeanSquaredError()\n",
    "\n",
    "r2score = R2Score()\n",
    "\n",
    "print(\"Mean Squared Error :\", MSE(preds, train_targets).item())\n",
    "print(\"R^2 :\", r2score(preds, train_targets).item())"
   ]
  },
  {
   "cell_type": "code",
   "execution_count": 28,
   "metadata": {},
   "outputs": [],
   "source": [
    "from torch.utils.data import TensorDataset, DataLoader\n",
    "train_df = TensorDataset(train_inputs, train_targets)"
   ]
  },
  {
   "cell_type": "code",
   "execution_count": 30,
   "metadata": {},
   "outputs": [
    {
     "data": {
      "text/plain": [
       "(tensor([[ 0.9888, -0.5000,  1.7213, -0.6213, -0.5478,  0.0621, -0.7196, -0.0674],\n",
       "         [-1.0113,  2.0000, -0.5809,  1.6095, -0.5478, -0.1506,  1.2870, -0.8865],\n",
       "         [ 0.9888, -0.5000, -0.5809, -0.6213,  1.8254,  0.7709, -0.6722, -0.8865],\n",
       "         [ 0.9888, -0.5000, -0.5809, -0.6213, -0.5478,  0.4874, -0.9722,  1.5709],\n",
       "         [-1.0113, -0.5000, -0.5809, -0.6213,  1.8254, -1.2847, -2.2011, -0.0674]]),\n",
       " tensor([[0.0857],\n",
       "         [0.6393],\n",
       "         [0.1191],\n",
       "         [0.1363],\n",
       "         [0.0238]]))"
      ]
     },
     "execution_count": 30,
     "metadata": {},
     "output_type": "execute_result"
    }
   ],
   "source": [
    "train_df[:5]"
   ]
  },
  {
   "cell_type": "code",
   "execution_count": 31,
   "metadata": {},
   "outputs": [],
   "source": [
    "batch_size = 8"
   ]
  },
  {
   "cell_type": "code",
   "execution_count": 32,
   "metadata": {},
   "outputs": [],
   "source": [
    "train_df = DataLoader(train_df, batch_size = batch_size, shuffle = True)"
   ]
  },
  {
   "cell_type": "code",
   "execution_count": 33,
   "metadata": {},
   "outputs": [
    {
     "data": {
      "text/plain": [
       "[tensor([[-1.0113, -0.5000,  1.7213, -0.6213, -0.5478, -0.6468, -1.7773,  1.5709],\n",
       "         [-1.0113, -0.5000,  1.7213, -0.6213, -0.5478, -0.8594, -1.5247, -0.8865],\n",
       "         [ 0.9888, -0.5000, -0.5809, -0.6213, -0.5478, -0.2923,  1.5063,  2.3900],\n",
       "         [ 0.9888, -0.5000, -0.5809,  1.6095, -0.5478, -0.0088,  0.5741,  0.7517],\n",
       "         [-1.0113,  2.0000, -0.5809, -0.6213, -0.5478,  0.5582, -0.7512, -0.0674],\n",
       "         [-1.0113, -0.5000, -0.5809,  1.6095, -0.5478, -0.9303, -0.1937, -0.0674],\n",
       "         [-1.0113, -0.5000, -0.5809, -0.6213, -0.5478, -1.4973, -0.0881, -0.8865],\n",
       "         [ 0.9888, -0.5000, -0.5809,  1.6095, -0.5478, -1.1429,  3.2794, -0.0674]]),\n",
       " tensor([[0.0744],\n",
       "         [0.0363],\n",
       "         [0.2989],\n",
       "         [0.3651],\n",
       "         [0.3624],\n",
       "         [0.0369],\n",
       "         [0.0176],\n",
       "         [0.0214]])]"
      ]
     },
     "execution_count": 33,
     "metadata": {},
     "output_type": "execute_result"
    }
   ],
   "source": [
    "next(iter(train_df))"
   ]
  },
  {
   "cell_type": "code",
   "execution_count": 34,
   "metadata": {},
   "outputs": [],
   "source": [
    "val_inputs = torch.from_numpy(X_val).float()\n",
    "val_targets = torch.from_numpy(y_val.reshape(-1, 1)).float()"
   ]
  },
  {
   "cell_type": "code",
   "execution_count": 35,
   "metadata": {},
   "outputs": [],
   "source": [
    "val_df = TensorDataset(val_inputs, val_targets)"
   ]
  },
  {
   "cell_type": "code",
   "execution_count": 36,
   "metadata": {},
   "outputs": [
    {
     "data": {
      "text/plain": [
       "(tensor([[-1.0113, -0.5000, -0.5809,  1.6095, -0.5478,  0.7000,  1.9999,  0.7517],\n",
       "         [ 0.9888, -0.5000, -0.5809, -0.6213, -0.5478, -0.5050,  1.1117, -0.0674],\n",
       "         [-1.0113,  2.0000, -0.5809, -0.6213,  1.8254, -0.8594,  0.1254, -0.8865],\n",
       "         [ 0.9888, -0.5000,  1.7213, -0.6213, -0.5478, -0.2923, -1.0827, -0.0674],\n",
       "         [ 0.9888, -0.5000, -0.5809,  1.6095, -0.5478,  1.4797, -0.8152, -0.8865]]),\n",
       " tensor([[0.1412],\n",
       "         [0.0577],\n",
       "         [0.5485],\n",
       "         [0.0651],\n",
       "         [0.1793]]))"
      ]
     },
     "execution_count": 36,
     "metadata": {},
     "output_type": "execute_result"
    }
   ],
   "source": [
    "val_df[:5]"
   ]
  },
  {
   "cell_type": "code",
   "execution_count": 37,
   "metadata": {},
   "outputs": [],
   "source": [
    "val_df = DataLoader(val_df, batch_size = batch_size, shuffle = True)"
   ]
  },
  {
   "cell_type": "code",
   "execution_count": 39,
   "metadata": {},
   "outputs": [
    {
     "data": {
      "text/plain": [
       "[tensor([[ 0.9888,  2.0000, -0.5809, -0.6213, -0.5478,  0.1330,  0.0224,  1.5709],\n",
       "         [ 0.9888, -0.5000,  1.7213, -0.6213, -0.5478,  1.4088, -0.8617, -0.8865],\n",
       "         [-1.0113, -0.5000, -0.5809, -0.6213,  1.8254,  1.6215,  0.4245, -0.8865],\n",
       "         [-1.0113, -0.5000, -0.5809, -0.6213, -0.5478, -1.2847, -1.4142, -0.8865],\n",
       "         [ 0.9888, -0.5000,  1.7213, -0.6213, -0.5478, -0.3632, -0.8933, -0.0674],\n",
       "         [-1.0113, -0.5000, -0.5809, -0.6213,  1.8254,  0.0621, -0.1737, -0.8865],\n",
       "         [-1.0113, -0.5000, -0.5809, -0.6213, -0.5478,  0.9835, -1.1459,  0.7517],\n",
       "         [-1.0113,  2.0000, -0.5809, -0.6213,  1.8254, -0.8594,  0.1254, -0.8865]]),\n",
       " tensor([[0.6259],\n",
       "         [0.1790],\n",
       "         [0.2008],\n",
       "         [0.0238],\n",
       "         [0.0614],\n",
       "         [0.0779],\n",
       "         [0.1726],\n",
       "         [0.5485]])]"
      ]
     },
     "execution_count": 39,
     "metadata": {},
     "output_type": "execute_result"
    }
   ],
   "source": [
    "next(iter(val_df))"
   ]
  },
  {
   "cell_type": "code",
   "execution_count": 41,
   "metadata": {},
   "outputs": [],
   "source": [
    "loss_stats = {\n",
    "    \"train\": [],\n",
    "    \"val\": []\n",
    "}\n",
    "\n",
    "num_epochs = 100"
   ]
  },
  {
   "cell_type": "code",
   "execution_count": 40,
   "metadata": {},
   "outputs": [
    {
     "name": "stdout",
     "output_type": "stream",
     "text": [
      "Using cpu device\n"
     ]
    }
   ],
   "source": [
    "device = (\n",
    "    \"cuda\"\n",
    "    if torch.cuda.is_available()\n",
    "    else \"mps\"\n",
    "    if torch.backends.mps.is_available()\n",
    "    else \"cpu\"\n",
    ")\n",
    "\n",
    "print(f\"Using {device} device\")"
   ]
  },
  {
   "cell_type": "code",
   "execution_count": 45,
   "metadata": {},
   "outputs": [
    {
     "name": "stdout",
     "output_type": "stream",
     "text": [
      "Epoch 0: | Train Loss: 0.012 | Val Loss: 0.011\n",
      "Epoch 1: | Train Loss: 0.012 | Val Loss: 0.008\n",
      "Epoch 2: | Train Loss: 0.012 | Val Loss: 0.011\n",
      "Epoch 3: | Train Loss: 0.012 | Val Loss: 0.009\n",
      "Epoch 4: | Train Loss: 0.012 | Val Loss: 0.008\n",
      "Epoch 5: | Train Loss: 0.012 | Val Loss: 0.010\n",
      "Epoch 6: | Train Loss: 0.012 | Val Loss: 0.011\n",
      "Epoch 7: | Train Loss: 0.012 | Val Loss: 0.008\n",
      "Epoch 8: | Train Loss: 0.012 | Val Loss: 0.011\n",
      "Epoch 9: | Train Loss: 0.012 | Val Loss: 0.008\n",
      "Epoch 10: | Train Loss: 0.012 | Val Loss: 0.010\n",
      "Epoch 11: | Train Loss: 0.012 | Val Loss: 0.010\n",
      "Epoch 12: | Train Loss: 0.012 | Val Loss: 0.011\n",
      "Epoch 13: | Train Loss: 0.011 | Val Loss: 0.010\n",
      "Epoch 14: | Train Loss: 0.012 | Val Loss: 0.009\n",
      "Epoch 15: | Train Loss: 0.012 | Val Loss: 0.009\n",
      "Epoch 16: | Train Loss: 0.012 | Val Loss: 0.008\n",
      "Epoch 17: | Train Loss: 0.012 | Val Loss: 0.009\n",
      "Epoch 18: | Train Loss: 0.012 | Val Loss: 0.010\n",
      "Epoch 19: | Train Loss: 0.011 | Val Loss: 0.009\n",
      "Epoch 20: | Train Loss: 0.012 | Val Loss: 0.009\n",
      "Epoch 21: | Train Loss: 0.012 | Val Loss: 0.010\n",
      "Epoch 22: | Train Loss: 0.012 | Val Loss: 0.008\n",
      "Epoch 23: | Train Loss: 0.012 | Val Loss: 0.009\n",
      "Epoch 24: | Train Loss: 0.012 | Val Loss: 0.010\n",
      "Epoch 25: | Train Loss: 0.012 | Val Loss: 0.012\n",
      "Epoch 26: | Train Loss: 0.012 | Val Loss: 0.010\n",
      "Epoch 27: | Train Loss: 0.012 | Val Loss: 0.009\n",
      "Epoch 28: | Train Loss: 0.012 | Val Loss: 0.009\n",
      "Epoch 29: | Train Loss: 0.012 | Val Loss: 0.009\n",
      "Epoch 30: | Train Loss: 0.012 | Val Loss: 0.009\n",
      "Epoch 31: | Train Loss: 0.012 | Val Loss: 0.010\n",
      "Epoch 32: | Train Loss: 0.012 | Val Loss: 0.011\n",
      "Epoch 33: | Train Loss: 0.012 | Val Loss: 0.013\n",
      "Epoch 34: | Train Loss: 0.011 | Val Loss: 0.010\n",
      "Epoch 35: | Train Loss: 0.012 | Val Loss: 0.009\n",
      "Epoch 36: | Train Loss: 0.012 | Val Loss: 0.009\n",
      "Epoch 37: | Train Loss: 0.012 | Val Loss: 0.009\n",
      "Epoch 38: | Train Loss: 0.012 | Val Loss: 0.009\n",
      "Epoch 39: | Train Loss: 0.012 | Val Loss: 0.009\n",
      "Epoch 40: | Train Loss: 0.012 | Val Loss: 0.011\n",
      "Epoch 41: | Train Loss: 0.012 | Val Loss: 0.009\n",
      "Epoch 42: | Train Loss: 0.012 | Val Loss: 0.011\n",
      "Epoch 43: | Train Loss: 0.012 | Val Loss: 0.009\n",
      "Epoch 44: | Train Loss: 0.012 | Val Loss: 0.010\n",
      "Epoch 45: | Train Loss: 0.012 | Val Loss: 0.010\n",
      "Epoch 46: | Train Loss: 0.012 | Val Loss: 0.010\n",
      "Epoch 47: | Train Loss: 0.012 | Val Loss: 0.010\n",
      "Epoch 48: | Train Loss: 0.012 | Val Loss: 0.009\n",
      "Epoch 49: | Train Loss: 0.012 | Val Loss: 0.009\n",
      "Epoch 50: | Train Loss: 0.012 | Val Loss: 0.010\n",
      "Epoch 51: | Train Loss: 0.012 | Val Loss: 0.009\n",
      "Epoch 52: | Train Loss: 0.012 | Val Loss: 0.009\n",
      "Epoch 53: | Train Loss: 0.012 | Val Loss: 0.009\n",
      "Epoch 54: | Train Loss: 0.012 | Val Loss: 0.010\n",
      "Epoch 55: | Train Loss: 0.012 | Val Loss: 0.008\n",
      "Epoch 56: | Train Loss: 0.012 | Val Loss: 0.008\n",
      "Epoch 57: | Train Loss: 0.011 | Val Loss: 0.010\n",
      "Epoch 58: | Train Loss: 0.012 | Val Loss: 0.009\n",
      "Epoch 59: | Train Loss: 0.012 | Val Loss: 0.009\n",
      "Epoch 60: | Train Loss: 0.012 | Val Loss: 0.009\n",
      "Epoch 61: | Train Loss: 0.013 | Val Loss: 0.009\n",
      "Epoch 62: | Train Loss: 0.012 | Val Loss: 0.010\n",
      "Epoch 63: | Train Loss: 0.012 | Val Loss: 0.011\n",
      "Epoch 64: | Train Loss: 0.012 | Val Loss: 0.009\n",
      "Epoch 65: | Train Loss: 0.012 | Val Loss: 0.009\n",
      "Epoch 66: | Train Loss: 0.012 | Val Loss: 0.010\n",
      "Epoch 67: | Train Loss: 0.012 | Val Loss: 0.009\n",
      "Epoch 68: | Train Loss: 0.012 | Val Loss: 0.009\n",
      "Epoch 69: | Train Loss: 0.012 | Val Loss: 0.009\n",
      "Epoch 70: | Train Loss: 0.012 | Val Loss: 0.010\n",
      "Epoch 71: | Train Loss: 0.012 | Val Loss: 0.011\n",
      "Epoch 72: | Train Loss: 0.011 | Val Loss: 0.012\n",
      "Epoch 73: | Train Loss: 0.012 | Val Loss: 0.009\n",
      "Epoch 74: | Train Loss: 0.012 | Val Loss: 0.009\n",
      "Epoch 75: | Train Loss: 0.012 | Val Loss: 0.011\n",
      "Epoch 76: | Train Loss: 0.012 | Val Loss: 0.010\n",
      "Epoch 77: | Train Loss: 0.012 | Val Loss: 0.009\n",
      "Epoch 78: | Train Loss: 0.012 | Val Loss: 0.010\n",
      "Epoch 79: | Train Loss: 0.011 | Val Loss: 0.009\n",
      "Epoch 80: | Train Loss: 0.012 | Val Loss: 0.009\n",
      "Epoch 81: | Train Loss: 0.012 | Val Loss: 0.010\n",
      "Epoch 82: | Train Loss: 0.012 | Val Loss: 0.012\n",
      "Epoch 83: | Train Loss: 0.012 | Val Loss: 0.010\n",
      "Epoch 84: | Train Loss: 0.012 | Val Loss: 0.008\n",
      "Epoch 85: | Train Loss: 0.012 | Val Loss: 0.009\n",
      "Epoch 86: | Train Loss: 0.012 | Val Loss: 0.011\n",
      "Epoch 87: | Train Loss: 0.012 | Val Loss: 0.009\n",
      "Epoch 88: | Train Loss: 0.012 | Val Loss: 0.009\n",
      "Epoch 89: | Train Loss: 0.012 | Val Loss: 0.010\n",
      "Epoch 90: | Train Loss: 0.012 | Val Loss: 0.010\n",
      "Epoch 91: | Train Loss: 0.012 | Val Loss: 0.009\n",
      "Epoch 92: | Train Loss: 0.011 | Val Loss: 0.010\n",
      "Epoch 93: | Train Loss: 0.012 | Val Loss: 0.011\n",
      "Epoch 94: | Train Loss: 0.012 | Val Loss: 0.009\n",
      "Epoch 95: | Train Loss: 0.012 | Val Loss: 0.010\n",
      "Epoch 96: | Train Loss: 0.011 | Val Loss: 0.009\n",
      "Epoch 97: | Train Loss: 0.012 | Val Loss: 0.009\n",
      "Epoch 98: | Train Loss: 0.012 | Val Loss: 0.009\n",
      "Epoch 99: | Train Loss: 0.012 | Val Loss: 0.009\n"
     ]
    }
   ],
   "source": [
    "num_of_epochs = 100\n",
    "optimizer = optim.Adam(model.parameters(), lr = 0.01)\n",
    "\n",
    "for i in range(num_of_epochs):\n",
    "    train_epoch_loss = 0\n",
    "    model.train()\n",
    "    \n",
    "    for X_train_batch, y_train_batch in train_df:\n",
    "        optimizer.zero_grad()\n",
    "        \n",
    "        X_train_batch, y_train_batch = \\\n",
    "            X_train_batch.to(device), y_train_batch.to(device)\n",
    "        \n",
    "        preds = model(X_train_batch)\n",
    "        \n",
    "        train_loss= loss_fn(preds, y_train_batch)\n",
    "        \n",
    "        train_loss.backward()\n",
    "        \n",
    "        optimizer.step()\n",
    "        \n",
    "        train_epoch_loss += train_loss.item()\n",
    "        \n",
    "    with torch.no_grad():\n",
    "        val_epoch_loss = 0\n",
    "        model.eval()\n",
    "        \n",
    "        for X_val_batch, y_val_batch in val_df:\n",
    "            preds = model(X_val_batch)\n",
    "            \n",
    "            val_loss = loss_fn(preds, y_val_batch)\n",
    "            \n",
    "            val_epoch_loss += val_loss.item()\n",
    "            \n",
    "    train_loss = train_epoch_loss / len(train_df)\n",
    "    val_loss = val_epoch_loss / len(val_df)\n",
    "        \n",
    "    loss_stats[\"train\"].append(train_loss)\n",
    "    loss_stats[\"val\"].append(val_loss)\n",
    "\n",
    "    print(f'Epoch {i+0:01}: | Train Loss: {train_loss:.3f} | Val Loss: {val_loss:.3f}')\n",
    "        "
   ]
  },
  {
   "cell_type": "code",
   "execution_count": null,
   "metadata": {},
   "outputs": [],
   "source": []
  }
 ],
 "metadata": {
  "kernelspec": {
   "display_name": "venv",
   "language": "python",
   "name": "python3"
  },
  "language_info": {
   "codemirror_mode": {
    "name": "ipython",
    "version": 3
   },
   "file_extension": ".py",
   "mimetype": "text/x-python",
   "name": "python",
   "nbconvert_exporter": "python",
   "pygments_lexer": "ipython3",
   "version": "3.11.7"
  }
 },
 "nbformat": 4,
 "nbformat_minor": 2
}
