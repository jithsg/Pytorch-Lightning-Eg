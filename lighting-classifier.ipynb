{
 "cells": [
  {
   "cell_type": "code",
   "execution_count": 2,
   "metadata": {},
   "outputs": [],
   "source": [
    "import numpy as np\n",
    "import pandas as pd\n",
    "import seaborn as sns\n",
    "import matplotlib.pyplot as plt\n",
    "import torch\n",
    "import torch.nn as nn\n",
    "import torch.optim as optim\n",
    "from torch.utils.data import TensorDataset, DataLoader\n",
    "\n",
    "from torchmetrics.functional import accuracy\n",
    "from torchmetrics import F1Score\n",
    "import lightning.pytorch as pl\n",
    "\n",
    "from sklearn.compose import ColumnTransformer\n",
    "from sklearn.model_selection import train_test_split\n",
    "from sklearn.preprocessing import StandardScaler, MinMaxScaler , OneHotEncoder"
   ]
  },
  {
   "cell_type": "code",
   "execution_count": 3,
   "metadata": {},
   "outputs": [
    {
     "data": {
      "text/html": [
       "<div>\n",
       "<style scoped>\n",
       "    .dataframe tbody tr th:only-of-type {\n",
       "        vertical-align: middle;\n",
       "    }\n",
       "\n",
       "    .dataframe tbody tr th {\n",
       "        vertical-align: top;\n",
       "    }\n",
       "\n",
       "    .dataframe thead th {\n",
       "        text-align: right;\n",
       "    }\n",
       "</style>\n",
       "<table border=\"1\" class=\"dataframe\">\n",
       "  <thead>\n",
       "    <tr style=\"text-align: right;\">\n",
       "      <th></th>\n",
       "      <th>RowNumber</th>\n",
       "      <th>CustomerId</th>\n",
       "      <th>Surname</th>\n",
       "      <th>CreditScore</th>\n",
       "      <th>Geography</th>\n",
       "      <th>Gender</th>\n",
       "      <th>Age</th>\n",
       "      <th>Tenure</th>\n",
       "      <th>Balance</th>\n",
       "      <th>NumOfProducts</th>\n",
       "      <th>HasCrCard</th>\n",
       "      <th>IsActiveMember</th>\n",
       "      <th>EstimatedSalary</th>\n",
       "      <th>Exited</th>\n",
       "    </tr>\n",
       "  </thead>\n",
       "  <tbody>\n",
       "    <tr>\n",
       "      <th>0</th>\n",
       "      <td>1</td>\n",
       "      <td>15634602</td>\n",
       "      <td>Hargrave</td>\n",
       "      <td>619</td>\n",
       "      <td>France</td>\n",
       "      <td>Female</td>\n",
       "      <td>42.0</td>\n",
       "      <td>2</td>\n",
       "      <td>0.00</td>\n",
       "      <td>1</td>\n",
       "      <td>1.0</td>\n",
       "      <td>1.0</td>\n",
       "      <td>101348.88</td>\n",
       "      <td>1</td>\n",
       "    </tr>\n",
       "    <tr>\n",
       "      <th>1</th>\n",
       "      <td>2</td>\n",
       "      <td>15647311</td>\n",
       "      <td>Hill</td>\n",
       "      <td>608</td>\n",
       "      <td>Spain</td>\n",
       "      <td>Female</td>\n",
       "      <td>41.0</td>\n",
       "      <td>1</td>\n",
       "      <td>83807.86</td>\n",
       "      <td>1</td>\n",
       "      <td>0.0</td>\n",
       "      <td>1.0</td>\n",
       "      <td>112542.58</td>\n",
       "      <td>0</td>\n",
       "    </tr>\n",
       "    <tr>\n",
       "      <th>2</th>\n",
       "      <td>3</td>\n",
       "      <td>15619304</td>\n",
       "      <td>Onio</td>\n",
       "      <td>502</td>\n",
       "      <td>France</td>\n",
       "      <td>Female</td>\n",
       "      <td>42.0</td>\n",
       "      <td>8</td>\n",
       "      <td>159660.80</td>\n",
       "      <td>3</td>\n",
       "      <td>1.0</td>\n",
       "      <td>0.0</td>\n",
       "      <td>113931.57</td>\n",
       "      <td>1</td>\n",
       "    </tr>\n",
       "    <tr>\n",
       "      <th>3</th>\n",
       "      <td>4</td>\n",
       "      <td>15701354</td>\n",
       "      <td>Boni</td>\n",
       "      <td>699</td>\n",
       "      <td>France</td>\n",
       "      <td>Female</td>\n",
       "      <td>39.0</td>\n",
       "      <td>1</td>\n",
       "      <td>0.00</td>\n",
       "      <td>2</td>\n",
       "      <td>0.0</td>\n",
       "      <td>0.0</td>\n",
       "      <td>93826.63</td>\n",
       "      <td>0</td>\n",
       "    </tr>\n",
       "    <tr>\n",
       "      <th>4</th>\n",
       "      <td>5</td>\n",
       "      <td>15737888</td>\n",
       "      <td>Mitchell</td>\n",
       "      <td>850</td>\n",
       "      <td>Spain</td>\n",
       "      <td>Female</td>\n",
       "      <td>43.0</td>\n",
       "      <td>2</td>\n",
       "      <td>125510.82</td>\n",
       "      <td>1</td>\n",
       "      <td>NaN</td>\n",
       "      <td>1.0</td>\n",
       "      <td>79084.10</td>\n",
       "      <td>0</td>\n",
       "    </tr>\n",
       "  </tbody>\n",
       "</table>\n",
       "</div>"
      ],
      "text/plain": [
       "   RowNumber  CustomerId   Surname  CreditScore Geography  Gender   Age  \\\n",
       "0          1    15634602  Hargrave          619    France  Female  42.0   \n",
       "1          2    15647311      Hill          608     Spain  Female  41.0   \n",
       "2          3    15619304      Onio          502    France  Female  42.0   \n",
       "3          4    15701354      Boni          699    France  Female  39.0   \n",
       "4          5    15737888  Mitchell          850     Spain  Female  43.0   \n",
       "\n",
       "   Tenure    Balance  NumOfProducts  HasCrCard  IsActiveMember  \\\n",
       "0       2       0.00              1        1.0             1.0   \n",
       "1       1   83807.86              1        0.0             1.0   \n",
       "2       8  159660.80              3        1.0             0.0   \n",
       "3       1       0.00              2        0.0             0.0   \n",
       "4       2  125510.82              1        NaN             1.0   \n",
       "\n",
       "   EstimatedSalary  Exited  \n",
       "0        101348.88       1  \n",
       "1        112542.58       0  \n",
       "2        113931.57       1  \n",
       "3         93826.63       0  \n",
       "4         79084.10       0  "
      ]
     },
     "execution_count": 3,
     "metadata": {},
     "output_type": "execute_result"
    }
   ],
   "source": [
    "bank_customer_churn_data = pd.read_csv(\"datasets/Churn_Modelling.csv\")\n",
    "\n",
    "bank_customer_churn_data.head()"
   ]
  },
  {
   "cell_type": "code",
   "execution_count": 5,
   "metadata": {},
   "outputs": [
    {
     "data": {
      "text/plain": [
       "Index(['RowNumber', 'CustomerId', 'Surname', 'CreditScore', 'Geography',\n",
       "       'Gender', 'Age', 'Tenure', 'Balance', 'NumOfProducts', 'HasCrCard',\n",
       "       'IsActiveMember', 'EstimatedSalary', 'Exited'],\n",
       "      dtype='object')"
      ]
     },
     "execution_count": 5,
     "metadata": {},
     "output_type": "execute_result"
    }
   ],
   "source": [
    "bank_customer_churn_data.columns"
   ]
  },
  {
   "cell_type": "code",
   "execution_count": 6,
   "metadata": {},
   "outputs": [
    {
     "name": "stdout",
     "output_type": "stream",
     "text": [
      "<class 'pandas.core.frame.DataFrame'>\n",
      "RangeIndex: 10002 entries, 0 to 10001\n",
      "Data columns (total 14 columns):\n",
      " #   Column           Non-Null Count  Dtype  \n",
      "---  ------           --------------  -----  \n",
      " 0   RowNumber        10002 non-null  int64  \n",
      " 1   CustomerId       10002 non-null  int64  \n",
      " 2   Surname          10002 non-null  object \n",
      " 3   CreditScore      10002 non-null  int64  \n",
      " 4   Geography        10001 non-null  object \n",
      " 5   Gender           10002 non-null  object \n",
      " 6   Age              10001 non-null  float64\n",
      " 7   Tenure           10002 non-null  int64  \n",
      " 8   Balance          10002 non-null  float64\n",
      " 9   NumOfProducts    10002 non-null  int64  \n",
      " 10  HasCrCard        10001 non-null  float64\n",
      " 11  IsActiveMember   10001 non-null  float64\n",
      " 12  EstimatedSalary  10002 non-null  float64\n",
      " 13  Exited           10002 non-null  int64  \n",
      "dtypes: float64(5), int64(6), object(3)\n",
      "memory usage: 1.1+ MB\n"
     ]
    }
   ],
   "source": [
    "bank_customer_churn_data.info()"
   ]
  },
  {
   "cell_type": "code",
   "execution_count": 7,
   "metadata": {},
   "outputs": [
    {
     "data": {
      "text/plain": [
       "(9996, 14)"
      ]
     },
     "execution_count": 7,
     "metadata": {},
     "output_type": "execute_result"
    }
   ],
   "source": [
    "bank_customer_churn_data.dropna(inplace = True)\n",
    "\n",
    "bank_customer_churn_data = bank_customer_churn_data.drop_duplicates()\n",
    "\n",
    "bank_customer_churn_data.shape"
   ]
  },
  {
   "cell_type": "code",
   "execution_count": 8,
   "metadata": {},
   "outputs": [
    {
     "data": {
      "text/plain": [
       "Exited\n",
       "0    7959\n",
       "1    2037\n",
       "Name: count, dtype: int64"
      ]
     },
     "execution_count": 8,
     "metadata": {},
     "output_type": "execute_result"
    }
   ],
   "source": [
    "bank_customer_churn_data[\"Exited\"].value_counts()"
   ]
  },
  {
   "cell_type": "code",
   "execution_count": 9,
   "metadata": {},
   "outputs": [
    {
     "data": {
      "text/plain": [
       "<Axes: xlabel='Exited', ylabel='count'>"
      ]
     },
     "execution_count": 9,
     "metadata": {},
     "output_type": "execute_result"
    },
    {
     "data": {
      "image/png": "[encoded data removed]",
      "text/plain": [
       "<Figure size 640x480 with 1 Axes>"
      ]
     },
     "metadata": {},
     "output_type": "display_data"
    }
   ],
   "source": [
    "sns.countplot(data = bank_customer_churn_data  , x = \"Exited\")"
   ]
  },
  {
   "cell_type": "code",
   "execution_count": 14,
   "metadata": {},
   "outputs": [],
   "source": [
    "from lightning.pytorch.utilities.types import TRAIN_DATALOADERS\n",
    "\n",
    "\n",
    "class BankCustomerChurnDataModule(pl.LightningDataModule):\n",
    "    def __init__(self, batchsize : int =8):\n",
    "        super().__init__()\n",
    "        self.batchsize = batchsize\n",
    "        \n",
    "    def prepare_data(self):\n",
    "        self.bank_customer_churn_data = pd.read_csv(\"datasets/Churn_Modelling.csv\")\n",
    "        self.bank_customer_churn_data.dropna(inplace = True)\n",
    "        self.bank_customer_churn_data = self.bank_customer_churn_data.drop_duplicates()\n",
    "        \n",
    "    def setup(self, stage = None):\n",
    "        X = self.bank_customer_churn_data.drop(columns= [\"Exited\", \"RowNumber\", \"CustomerId\", \"Surname\"] , axis = 1)\n",
    "        y = self.bank_customer_churn_data[\"Exited\"]\n",
    "        \n",
    "        if stage == \"fit\" or stage is None:\n",
    "            X_train, X_val, y_train, y_val = train_test_split(X, y, test_size = 0.2, random_state = 123)\n",
    "            \n",
    "            categorical_features = ['Geography', 'Gender']\n",
    "\n",
    "            categorical_transformer = OneHotEncoder(\n",
    "                handle_unknown = 'ignore', drop = 'first', sparse_output = False\n",
    "            )\n",
    "\n",
    "            preprocessor = ColumnTransformer(\n",
    "                transformers = [('cat_tr', categorical_transformer, categorical_features)],\n",
    "                remainder='passthrough'\n",
    "            )\n",
    "            \n",
    "            X_train = preprocessor.fit_transform(X_train)\n",
    "            X_val = preprocessor.transform(X_val)\n",
    "            \n",
    "            y_train, y_val = np.array(y_train), np.array(y_val)\n",
    "            \n",
    "            scaler = StandardScaler()\n",
    "            \n",
    "            inputs_train_array = scaler.fit_transform(X_train)\n",
    "            inputs_val_array = scaler.transform(X_val)\n",
    "            \n",
    "            self.train_inputs = torch.from_numpy(inputs_train_array).float()\n",
    "            self.train_targets = torch.from_numpy(y_train.reshape(-1, 1)).float()\n",
    "            self.val_inputs = torch.from_numpy(inputs_val_array).float()\n",
    "            self.val_targets = torch.from_numpy(y_val.reshape(-1,1 )).float()\n",
    "            \n",
    "    \n",
    "    def train_dataloader(self):\n",
    "        train_dataset = TensorDataset(self.train_inputs, self.train_targets)\n",
    "        train_loader = DataLoader(train_dataset, batch_size = self.batchsize, shuffle = True)\n",
    "        return train_loader\n",
    "    \n",
    "    def val_dataloader(self):\n",
    "        val_dataset = TensorDataset(self.val_inputs, self.val_targets)\n",
    "        val_loader = DataLoader(val_dataset, batch_size = self.batchsize, shuffle = False)\n",
    "        return val_loader\n",
    "    \n",
    "    \n",
    "            "
   ]
  },
  {
   "cell_type": "code",
   "execution_count": 15,
   "metadata": {},
   "outputs": [],
   "source": [
    "bank_customer_churn_dm = BankCustomerChurnDataModule()"
   ]
  },
  {
   "cell_type": "code",
   "execution_count": 16,
   "metadata": {},
   "outputs": [],
   "source": [
    "bank_customer_churn_dm.prepare_data()\n",
    "bank_customer_churn_dm.setup()"
   ]
  },
  {
   "cell_type": "code",
   "execution_count": 18,
   "metadata": {},
   "outputs": [
    {
     "data": {
      "text/plain": [
       "[tensor([[-5.7812e-01, -5.7465e-01,  9.0655e-01,  2.0588e+00,  1.1093e-01,\n",
       "          -1.3910e+00,  8.8201e-03, -9.1791e-01,  6.4321e-01, -1.0287e+00,\n",
       "           1.2985e+00],\n",
       "         [-5.7812e-01, -5.7465e-01, -1.1031e+00,  1.8734e+00, -9.4915e-01,\n",
       "          -3.9131e-04, -1.2208e+00,  8.1028e-01,  6.4321e-01, -1.0287e+00,\n",
       "           1.3787e+00],\n",
       "         [-5.7812e-01,  1.7402e+00, -1.1031e+00, -8.4548e-01, -6.6003e-01,\n",
       "           6.9493e-01,  1.4873e+00, -9.1791e-01,  6.4321e-01, -1.0287e+00,\n",
       "          -6.5995e-01],\n",
       "         [ 1.7297e+00, -5.7465e-01, -1.1031e+00, -3.2024e-01,  3.0367e-01,\n",
       "           1.0426e+00,  9.0217e-01,  2.5385e+00,  6.4321e-01,  9.7212e-01,\n",
       "           1.6062e+00],\n",
       "         [-5.7812e-01, -5.7465e-01,  9.0655e-01,  1.2864e+00, -7.5640e-01,\n",
       "           1.3902e+00, -1.2208e+00,  8.1028e-01,  6.4321e-01, -1.0287e+00,\n",
       "           1.2129e+00],\n",
       "         [-5.7812e-01, -5.7465e-01,  9.0655e-01,  4.0216e-02, -2.7455e-01,\n",
       "          -1.0434e+00,  5.7392e-01, -9.1791e-01,  6.4321e-01, -1.0287e+00,\n",
       "          -1.5160e+00],\n",
       "         [-5.7812e-01, -5.7465e-01,  9.0655e-01, -1.7606e-01, -7.5640e-01,\n",
       "          -1.3910e+00, -1.2208e+00, -9.1791e-01,  6.4321e-01, -1.0287e+00,\n",
       "          -8.9252e-01],\n",
       "         [-5.7812e-01, -5.7465e-01, -1.1031e+00,  1.9470e-01, -9.4915e-01,\n",
       "           6.9493e-01,  1.1134e+00, -9.1791e-01, -1.5547e+00, -1.0287e+00,\n",
       "          -8.6386e-01]]),\n",
       " tensor([[0.],\n",
       "         [0.],\n",
       "         [0.],\n",
       "         [1.],\n",
       "         [0.],\n",
       "         [0.],\n",
       "         [0.],\n",
       "         [0.]])]"
      ]
     },
     "execution_count": 18,
     "metadata": {},
     "output_type": "execute_result"
    }
   ],
   "source": [
    "train_dl = bank_customer_churn_dm.train_dataloader()\n",
    "next(iter(train_dl))"
   ]
  },
  {
   "cell_type": "code",
   "execution_count": 20,
   "metadata": {},
   "outputs": [],
   "source": [
    "num_features =11"
   ]
  },
  {
   "cell_type": "code",
   "execution_count": null,
   "metadata": {},
   "outputs": [],
   "source": []
  }
 ],
 "metadata": {
  "kernelspec": {
   "display_name": "venv",
   "language": "python",
   "name": "python3"
  },
  "language_info": {
   "codemirror_mode": {
    "name": "ipython",
    "version": 3
   },
   "file_extension": ".py",
   "mimetype": "text/x-python",
   "name": "python",
   "nbconvert_exporter": "python",
   "pygments_lexer": "ipython3",
   "version": "3.11.7"
  }
 },
 "nbformat": 4,
 "nbformat_minor": 2
}
